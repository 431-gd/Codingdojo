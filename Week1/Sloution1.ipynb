{
 "cells": [
  {
   "cell_type": "code",
   "execution_count": 6,
   "metadata": {},
   "outputs": [],
   "source": [
    "import hashlib\n",
    "import json\n",
    "from time import time\n",
    "from collections import OrderedDict"
   ]
  },
  {
   "cell_type": "code",
   "execution_count": 7,
   "metadata": {},
   "outputs": [],
   "source": [
    "class Printed:\n",
    "    \"\"\"A base class\"\"\"\n",
    "    def __repr__(self):\n",
    "        return str(self.__dict__)"
   ]
  },
  {
   "cell_type": "code",
   "execution_count": 12,
   "metadata": {},
   "outputs": [],
   "source": [
    "class Block(Printed):\n",
    "    \"\"\"When a block is added to the chain...\"\"\"\n",
    "    def __init__(self, index, previousHash, transactions, proof, time=time()):\n",
    "        self.index = index\n",
    "        self.previousHash = previousHash\n",
    "        self.timestamp = time\n",
    "        self.transactions = transactions\n",
    "        self.proof = proof"
   ]
  },
  {
   "cell_type": "code",
   "execution_count": 13,
   "metadata": {},
   "outputs": [],
   "source": [
    "class Transaction(Printed):\n",
    "    \"\"\"When a transaction is added to a block\"\"\"\n",
    "    def __init__(self, sender, receiver, amount):\n",
    "        self.sender = sender\n",
    "        self.receiver = receiver\n",
    "        self.amount = amount\n",
    "\n",
    "    def to_ordered_dict(self):\n",
    "        \"\"\"Converts into (hash) dict\"\"\"\n",
    "        return OrderedDict([('sender', self.sender), ('receiver', self.receiver), ('amount', self.amount)])\n"
   ]
  },
  {
   "cell_type": "code",
   "execution_count": 14,
   "metadata": {},
   "outputs": [],
   "source": [
    "def hashString(string):\n",
    "    return hashlib.sha256(string).hexdigest()\n",
    "\n",
    "def hashBlock(block):\n",
    "    hashingBlock = block.__dict__.copy()\n",
    "    hashingBlock['transactions'] = [tx.to_ordered_dict() for tx in hashingBlock['transactions']]\n",
    "    return hashString(json.dumps(hashingBlock, sort_keys=True).encode())"
   ]
  },
  {
   "cell_type": "code",
   "execution_count": 15,
   "metadata": {},
   "outputs": [
    {
     "data": {
      "text/plain": [
       "'5d062d7768fe039d798166143ce396095218e91006b61a17ec59a48f9ce9aa87'"
      ]
     },
     "execution_count": 15,
     "metadata": {},
     "output_type": "execute_result"
    }
   ],
   "source": [
    "hashBlock(Block(0,'0',[],0))"
   ]
  },
  {
   "cell_type": "code",
   "execution_count": 16,
   "metadata": {},
   "outputs": [],
   "source": [
    "\"\"\"Verification: helper methods..\"\"\"\n",
    "        \n",
    "        \n",
    "        \n",
    "class Verification:\n",
    "    @staticmethod\n",
    "    def validProof(transactions, lastHash, proof):\n",
    "        guess = (str([tx.to_ordered_dict() for tx in transactions]) + str(lastHash) + str(proof)).encode()\n",
    "        _hash = hashString(guess)\n",
    "        return _hash[0:2] == '00'\n",
    "        \n",
    "    @classmethod\n",
    "    def verifyChain(cls, blockchain):\n",
    "        \"\"\" Verify all blocks in the chain and return True if proof is valid, and False otherwise.\"\"\"\n",
    "\n",
    "        for (index, block) in enumerate(blockchain):\n",
    "            if index == 0:\n",
    "                continue\n",
    "            if block.previousHash != hashBlock(blockchain[index - 1]):\n",
    "                return False\n",
    "            if not cls.validProof(block.transactions[:-1], block.previousHash, block.proof):\n",
    "                print('Invalid proof of work')\n",
    "                return False\n",
    "        return True\n"
   ]
  },
  {
   "cell_type": "code",
   "execution_count": 17,
   "metadata": {},
   "outputs": [],
   "source": [
    "class Blockchain:\n",
    "    def __init__(self):\n",
    "        genesis_block = Block(0, '', [], 0, 0)\n",
    "        self.chain = [genesis_block]\n",
    "        self.unconfirmedTransaction = []\n",
    "        self.REWAED = 10\n",
    "    @property\n",
    "    def chain(self):\n",
    "        return self.__chain[:]\n",
    "\n",
    "    # The setter\n",
    "    @chain.setter\n",
    "    def chain(self, data):\n",
    "        self.__chain = data\n",
    "        \n",
    "\n",
    "\n",
    "    def proofOfWork(self):\n",
    "        \n",
    "        \"\"\"proof of work:  works on \n",
    "        for adding the unconfirmed transactions, \n",
    "        hashing the previous block and guessing a proof number \"\"\"\n",
    "        \n",
    "        last_block = self.__chain[-1]\n",
    "        lastHash = hashBlock(last_block)\n",
    "        proof = 0\n",
    "        while not Verification.validProof(self.unconfirmedTransaction, lastHash, proof):\n",
    "            proof += 1\n",
    "        return proof\n",
    "    \n",
    "    @property    \n",
    "    def unconfirmed(self):\n",
    "        \"\"\"A list of unconfirmed transactions.\"\"\"\n",
    "        return self.unconfirmedTransaction[:]\n",
    "\n",
    "    def lastChain(self):\n",
    "        \"\"\"last block. \"\"\"\n",
    "        if len(self.__chain) < 1:\n",
    "            return None\n",
    "        return self.__chain[-1]\n",
    "    \n",
    "    def addTransaction(self, sender, receiver, amount=0.9):\n",
    "        \"\"\" Append a new transactions\"\"\"\n",
    "        transaction = Transaction(sender, receiver, amount)\n",
    "        self.unconfirmedTransaction.append(transaction)\n",
    "\n",
    "        \n",
    "    def addBlcok(self):\n",
    "        \"\"\"Add a new block and append unconfirmed transactions similar to a mining block\"\"\"\n",
    "\n",
    "        last_block = self.__chain[-1]        \n",
    "        hashed_block = hashBlock(last_block)\n",
    "        proof = self.proofOfWork()\n",
    "        \n",
    "        reward_transaction = Transaction(\n",
    "            'MINING', 'receiverAddress', self.REWAED)\n",
    "\n",
    "        copied_transactions = self.unconfirmedTransaction[:]\n",
    "\n",
    "        copied_transactions.append(reward_transaction)\n",
    "        \n",
    "        block = Block(len(self.__chain), hashed_block,\n",
    "                      copied_transactions, proof)\n",
    "        \n",
    "        block.hash = hashBlock(block)\n",
    "\n",
    "        self.__chain.append(block)\n",
    "        self.unconfirmedTransaction = []\n",
    "        \n",
    "        return block\n",
    "\n"
   ]
  },
  {
   "cell_type": "code",
   "execution_count": 18,
   "metadata": {},
   "outputs": [],
   "source": [
    "myblock = Blockchain()"
   ]
  },
  {
   "cell_type": "code",
   "execution_count": 19,
   "metadata": {},
   "outputs": [
    {
     "data": {
      "text/plain": [
       "[{'index': 0, 'previousHash': '', 'timestamp': 0, 'transactions': [], 'proof': 0}]"
      ]
     },
     "execution_count": 19,
     "metadata": {},
     "output_type": "execute_result"
    }
   ],
   "source": [
    "myblock.chain"
   ]
  },
  {
   "cell_type": "code",
   "execution_count": 21,
   "metadata": {},
   "outputs": [
    {
     "data": {
      "text/plain": [
       "{'index': 2, 'previousHash': '2109b6a0c6c950b4f414a1d3ad47a0b653a2363bf7affc60fccc6fb62148599f', 'timestamp': 1612439019.420285, 'transactions': [{'sender': 'MINING', 'receiver': 'receiverAddress', 'amount': 10}], 'proof': 114, 'hash': '0fdc3c0043e8a1db2a22c4ace73cfa4bae806363f0cb98eb3dc51fa949f3db09'}"
      ]
     },
     "execution_count": 21,
     "metadata": {},
     "output_type": "execute_result"
    }
   ],
   "source": [
    "myblock.addBlcok()"
   ]
  },
  {
   "cell_type": "code",
   "execution_count": 22,
   "metadata": {},
   "outputs": [
    {
     "data": {
      "text/plain": [
       "[{'index': 0, 'previousHash': '', 'timestamp': 0, 'transactions': [], 'proof': 0},\n",
       " {'index': 1, 'previousHash': '817c94b3a53cf23a06afceb0cbfcd9c71eac120fbf89a47aba1ae8d170d08999', 'timestamp': 1612439019.420285, 'transactions': [{'sender': 'MINING', 'receiver': 'receiverAddress', 'amount': 10}], 'proof': 91, 'hash': '78538f607a3ff98d74b0a3a0c6d4a004414f660ac4b8ab2cb6c4544bd4d53a01'},\n",
       " {'index': 2, 'previousHash': '2109b6a0c6c950b4f414a1d3ad47a0b653a2363bf7affc60fccc6fb62148599f', 'timestamp': 1612439019.420285, 'transactions': [{'sender': 'MINING', 'receiver': 'receiverAddress', 'amount': 10}], 'proof': 114, 'hash': '0fdc3c0043e8a1db2a22c4ace73cfa4bae806363f0cb98eb3dc51fa949f3db09'}]"
      ]
     },
     "execution_count": 22,
     "metadata": {},
     "output_type": "execute_result"
    }
   ],
   "source": [
    "myblock.chain"
   ]
  },
  {
   "cell_type": "code",
   "execution_count": 30,
   "metadata": {},
   "outputs": [],
   "source": [
    "myblock.addTransaction(\"anwar\", \"adam\", 2)"
   ]
  },
  {
   "cell_type": "code",
   "execution_count": 26,
   "metadata": {},
   "outputs": [
    {
     "data": {
      "text/plain": [
       "[{'index': 0, 'previousHash': '', 'timestamp': 0, 'transactions': [], 'proof': 0},\n",
       " {'index': 1, 'previousHash': '817c94b3a53cf23a06afceb0cbfcd9c71eac120fbf89a47aba1ae8d170d08999', 'timestamp': 1612439019.420285, 'transactions': [{'sender': 'MINING', 'receiver': 'receiverAddress', 'amount': 10}], 'proof': 91, 'hash': '78538f607a3ff98d74b0a3a0c6d4a004414f660ac4b8ab2cb6c4544bd4d53a01'},\n",
       " {'index': 2, 'previousHash': '2109b6a0c6c950b4f414a1d3ad47a0b653a2363bf7affc60fccc6fb62148599f', 'timestamp': 1612439019.420285, 'transactions': [{'sender': 'MINING', 'receiver': 'receiverAddress', 'amount': 10}], 'proof': 114, 'hash': '0fdc3c0043e8a1db2a22c4ace73cfa4bae806363f0cb98eb3dc51fa949f3db09'}]"
      ]
     },
     "execution_count": 26,
     "metadata": {},
     "output_type": "execute_result"
    }
   ],
   "source": [
    "myblock.chain"
   ]
  },
  {
   "cell_type": "code",
   "execution_count": 31,
   "metadata": {},
   "outputs": [
    {
     "data": {
      "text/plain": [
       "[{'sender': 'anwar', 'receiver': 'adam', 'amount': 2},\n",
       " {'sender': 'anwar', 'receiver': 'adam', 'amount': 2},\n",
       " {'sender': 'anwar', 'receiver': 'adam', 'amount': 2}]"
      ]
     },
     "execution_count": 31,
     "metadata": {},
     "output_type": "execute_result"
    }
   ],
   "source": [
    "myblock.unconfirmed"
   ]
  },
  {
   "cell_type": "code",
   "execution_count": 33,
   "metadata": {},
   "outputs": [
    {
     "data": {
      "text/plain": [
       "{'index': 3, 'previousHash': '9ee84c010506452f53710cc2d91078847d8801b8dd6342b1c37e6d1335f184d8', 'timestamp': 1612439019.420285, 'transactions': [{'sender': 'anwar', 'receiver': 'adam', 'amount': 2}, {'sender': 'anwar', 'receiver': 'adam', 'amount': 2}, {'sender': 'anwar', 'receiver': 'adam', 'amount': 2}, {'sender': 'MINING', 'receiver': 'receiverAddress', 'amount': 10}], 'proof': 350, 'hash': '2cca80890de301e3825f0ae1a40e05f9fd2c723166ba3cbabcee513c43876e33'}"
      ]
     },
     "execution_count": 33,
     "metadata": {},
     "output_type": "execute_result"
    }
   ],
   "source": [
    "myblock.addBlcok()"
   ]
  },
  {
   "cell_type": "code",
   "execution_count": 35,
   "metadata": {},
   "outputs": [
    {
     "data": {
      "text/plain": [
       "[{'index': 0, 'previousHash': '', 'timestamp': 0, 'transactions': [], 'proof': 0},\n",
       " {'index': 1, 'previousHash': '817c94b3a53cf23a06afceb0cbfcd9c71eac120fbf89a47aba1ae8d170d08999', 'timestamp': 1612439019.420285, 'transactions': [{'sender': 'MINING', 'receiver': 'receiverAddress', 'amount': 10}], 'proof': 91, 'hash': '78538f607a3ff98d74b0a3a0c6d4a004414f660ac4b8ab2cb6c4544bd4d53a01'},\n",
       " {'index': 2, 'previousHash': '2109b6a0c6c950b4f414a1d3ad47a0b653a2363bf7affc60fccc6fb62148599f', 'timestamp': 1612439019.420285, 'transactions': [{'sender': 'MINING', 'receiver': 'receiverAddress', 'amount': 10}], 'proof': 114, 'hash': '0fdc3c0043e8a1db2a22c4ace73cfa4bae806363f0cb98eb3dc51fa949f3db09'},\n",
       " {'index': 3, 'previousHash': '9ee84c010506452f53710cc2d91078847d8801b8dd6342b1c37e6d1335f184d8', 'timestamp': 1612439019.420285, 'transactions': [{'sender': 'anwar', 'receiver': 'adam', 'amount': 2}, {'sender': 'anwar', 'receiver': 'adam', 'amount': 2}, {'sender': 'anwar', 'receiver': 'adam', 'amount': 2}, {'sender': 'MINING', 'receiver': 'receiverAddress', 'amount': 10}], 'proof': 350, 'hash': '2cca80890de301e3825f0ae1a40e05f9fd2c723166ba3cbabcee513c43876e33'}]"
      ]
     },
     "execution_count": 35,
     "metadata": {},
     "output_type": "execute_result"
    }
   ],
   "source": [
    "myblock.chain"
   ]
  },
  {
   "cell_type": "code",
   "execution_count": 37,
   "metadata": {},
   "outputs": [
    {
     "data": {
      "text/plain": [
       "True"
      ]
     },
     "execution_count": 37,
     "metadata": {},
     "output_type": "execute_result"
    }
   ],
   "source": [
    "Verification.verifyChain(myblock.chain)"
   ]
  },
  {
   "cell_type": "code",
   "execution_count": null,
   "metadata": {},
   "outputs": [],
   "source": []
  }
 ],
 "metadata": {
  "kernelspec": {
   "display_name": "Python 3",
   "language": "python",
   "name": "python3"
  },
  "language_info": {
   "codemirror_mode": {
    "name": "ipython",
    "version": 3
   },
   "file_extension": ".py",
   "mimetype": "text/x-python",
   "name": "python",
   "nbconvert_exporter": "python",
   "pygments_lexer": "ipython3",
   "version": "3.9.1"
  }
 },
 "nbformat": 4,
 "nbformat_minor": 4
}
